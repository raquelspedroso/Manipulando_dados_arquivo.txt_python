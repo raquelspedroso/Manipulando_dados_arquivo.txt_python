{
  "nbformat": 4,
  "nbformat_minor": 0,
  "metadata": {
    "colab": {
      "name": "Manipulação_dados_arquivo.txt_python.ipynb",
      "provenance": [],
      "mount_file_id": "1SukaiwziO6e8QK1yGXVFLAEOf0xT-4Bw",
      "authorship_tag": "ABX9TyPVwH+ylTHn3sXj45YDOMRE",
      "include_colab_link": true
    },
    "kernelspec": {
      "name": "python3",
      "display_name": "Python 3"
    },
    "language_info": {
      "name": "python"
    }
  },
  "cells": [
    {
      "cell_type": "markdown",
      "metadata": {
        "id": "view-in-github",
        "colab_type": "text"
      },
      "source": [
        "<a href=\"https://colab.research.google.com/github/raquelspedroso/Manipulando_dados_arquivo.txt_python/blob/main/Manipula%C3%A7%C3%A3o_dados_arquivo_txt_python.ipynb\" target=\"_parent\"><img src=\"https://colab.research.google.com/assets/colab-badge.svg\" alt=\"Open In Colab\"/></a>"
      ]
    },
    {
      "cell_type": "code",
      "execution_count": 3,
      "metadata": {
        "colab": {
          "base_uri": "https://localhost:8080/"
        },
        "id": "zm5Ooep_stJy",
        "outputId": "aa6d91f4-cce8-410d-b07e-5712d6c9c3e9"
      },
      "outputs": [
        {
          "output_type": "stream",
          "name": "stdout",
          "text": [
            "ALEX ROMAN\n",
            "ALINE BONI\n",
            "AMANDA LARA BRESSANELLI\n",
            "BIANCA FASOLO FRANCESCHETTO\n",
            "CAROLINA FERREIRA GOMES\n",
            "CAROLINA SERPA BRASIL\n",
            "CHRISTOFER DA SILVA\n",
            "DANIELE LIMA ROCHA\n",
            "GABRIELA GARCIA SILVANO\n",
            "GIOVANI NOLL\n",
            "GUILHERME GERALDO LOVATO SORIO\n",
            "GUILHERME LEMOS EDER\n",
            "STEPHANIE PILOTTI\n",
            "VINICIUS OLIVEIRA ROCHA RODRIGUES\n",
            "VIVIANA REGINA KONZEN\n",
            "\n"
          ]
        }
      ],
      "source": [
        "with open(\"/content/drive/MyDrive/Aprovados/aprovados.txt\", \"r\") as aprovados:\n",
        "     lista = aprovados.read().split(',\\n')\n",
        "    \n",
        "for linha in lista:\n",
        "    print(linha)\n",
        "\n",
        "vagas = 5"
      ]
    },
    {
      "cell_type": "code",
      "source": [
        "# Quantidade de aprovados na lista.\n",
        "print(\"Total de aprovados: \",len(lista))    \n"
      ],
      "metadata": {
        "colab": {
          "base_uri": "https://localhost:8080/"
        },
        "id": "Sk-TjFqFuDjz",
        "outputId": "03816d93-6411-4833-bafb-798b8f429c8c"
      },
      "execution_count": 4,
      "outputs": [
        {
          "output_type": "stream",
          "name": "stdout",
          "text": [
            "Total de aprovados:  15\n"
          ]
        }
      ]
    },
    {
      "cell_type": "code",
      "source": [
        "# 1º colocado da lista de aprovados.\n",
        "\n",
        "print(\"1º colocado: \", lista[0])\n"
      ],
      "metadata": {
        "colab": {
          "base_uri": "https://localhost:8080/"
        },
        "id": "6fIfgZYxuNWB",
        "outputId": "4f5e8ea1-f827-4818-a9bd-1f26d8840af2"
      },
      "execution_count": 5,
      "outputs": [
        {
          "output_type": "stream",
          "name": "stdout",
          "text": [
            "1º colocado:  ALEX ROMAN\n"
          ]
        }
      ]
    },
    {
      "cell_type": "code",
      "source": [
        "# 1º nome da lista a ser cadastrado como reserva.\n",
        "print(\"1º cadastro reserva: \", lista[vagas])\n"
      ],
      "metadata": {
        "colab": {
          "base_uri": "https://localhost:8080/"
        },
        "id": "BMsRD_21uVDS",
        "outputId": "bc4d7e27-c377-4158-ae67-fa0b9b15ce08"
      },
      "execution_count": 8,
      "outputs": [
        {
          "output_type": "stream",
          "name": "stdout",
          "text": [
            "1º cadastro reserva:  CAROLINA SERPA BRASIL\n"
          ]
        }
      ]
    },
    {
      "cell_type": "code",
      "source": [
        "# verificar se alguém está na lista.\n",
        "pesquisarNome = input(\"Qual nome deseja consultar se está no lista de aprovados? \").upper()\n",
        "if pesquisarNome in lista:\n",
        "    print(f\"Parabéns {pesquisarNome} você foi aprovado\")\n",
        "else:\n",
        "    print(f\"Infelizmente {pesquisarNome} não foi aprovado.\")\n"
      ],
      "metadata": {
        "colab": {
          "base_uri": "https://localhost:8080/"
        },
        "id": "YWMUB-QnubbQ",
        "outputId": "d40a99b0-e039-47de-b700-e0b9c4a4d7cb"
      },
      "execution_count": 7,
      "outputs": [
        {
          "output_type": "stream",
          "name": "stdout",
          "text": [
            "Qual nome deseja consultar se está no lista de aprovados? ALINE BONI\n",
            "Parabéns ALINE BONI você foi aprovado\n"
          ]
        }
      ]
    },
    {
      "cell_type": "code",
      "source": [
        "# lista de classificados:\n",
        "classificados = lista[:vagas]\n",
        "print(classificados)"
      ],
      "metadata": {
        "colab": {
          "base_uri": "https://localhost:8080/"
        },
        "id": "Te6MBcKAugAD",
        "outputId": "371eeace-62dd-4f9f-9529-c7d022780114"
      },
      "execution_count": 9,
      "outputs": [
        {
          "output_type": "stream",
          "name": "stdout",
          "text": [
            "['ALEX ROMAN', 'ALINE BONI', 'AMANDA LARA BRESSANELLI', 'BIANCA FASOLO FRANCESCHETTO', 'CAROLINA FERREIRA GOMES']\n"
          ]
        }
      ]
    },
    {
      "cell_type": "code",
      "source": [
        "#Lista de cadastro reserva:\n",
        "reservas = lista[vagas:]\n",
        "print(reservas)"
      ],
      "metadata": {
        "colab": {
          "base_uri": "https://localhost:8080/"
        },
        "id": "lJccXOyJueZQ",
        "outputId": "9be225ae-a51f-4f3b-dcfe-3fcc99ddc2fe"
      },
      "execution_count": 10,
      "outputs": [
        {
          "output_type": "stream",
          "name": "stdout",
          "text": [
            "['CAROLINA SERPA BRASIL', 'CHRISTOFER DA SILVA', 'DANIELE LIMA ROCHA', 'GABRIELA GARCIA SILVANO', 'GIOVANI NOLL', 'GUILHERME GERALDO LOVATO SORIO', 'GUILHERME LEMOS EDER', 'STEPHANIE PILOTTI', 'VINICIUS OLIVEIRA ROCHA RODRIGUES', 'VIVIANA REGINA KONZEN\\n']\n"
          ]
        }
      ]
    },
    {
      "cell_type": "code",
      "source": [
        "# Mostrar o último classificado e o último reserva.\n",
        "print(\"Último classificado:\", classificados[-1])\n",
        "print(\"Último reserva:\", reservas[-1])\n"
      ],
      "metadata": {
        "colab": {
          "base_uri": "https://localhost:8080/"
        },
        "id": "UktOnScLusKt",
        "outputId": "476b4b68-778e-41e6-8fa9-88dd233d5bf5"
      },
      "execution_count": 11,
      "outputs": [
        {
          "output_type": "stream",
          "name": "stdout",
          "text": [
            "Último classificado: CAROLINA FERREIRA GOMES\n",
            "Último reserva: VIVIANA REGINA KONZEN\n",
            "\n"
          ]
        }
      ]
    },
    {
      "cell_type": "code",
      "source": [
        "# Modificar o um nome da lista.\n",
        "lista[7] = \"OSVALDO CRUZ\""
      ],
      "metadata": {
        "id": "sgmotSYuuvzr"
      },
      "execution_count": 12,
      "outputs": []
    },
    {
      "cell_type": "code",
      "source": [
        "#consultar se o nome foi alterado na lista.\n",
        "if \"OSVALDO CRUZ\" in lista:\n",
        "    print(\"Parabéns Osvaldo,  você foi aprovado\")\n",
        "else:\n",
        "    print(\"Que pena, você não foi aprovado.\")\n"
      ],
      "metadata": {
        "colab": {
          "base_uri": "https://localhost:8080/"
        },
        "id": "UDa_hmOXuz9B",
        "outputId": "2804cdb0-593f-4938-d253-379d6b0e7a5f"
      },
      "execution_count": 13,
      "outputs": [
        {
          "output_type": "stream",
          "name": "stdout",
          "text": [
            "Parabéns Osvaldo,  você foi aprovado\n"
          ]
        }
      ]
    },
    {
      "cell_type": "code",
      "source": [
        "#Adicionar um elemento ao final da lista. \n",
        "lista.append(\"SAMUEL ROSA\")"
      ],
      "metadata": {
        "id": "uJnt1DL_u6Gq"
      },
      "execution_count": 14,
      "outputs": []
    },
    {
      "cell_type": "code",
      "source": [
        "#Remover um nome na lista\n",
        "lista.remove(\"ALEX ROMAN\")\n",
        "\n",
        "print(\"nova lista de aprovados:\", lista)"
      ],
      "metadata": {
        "colab": {
          "base_uri": "https://localhost:8080/"
        },
        "id": "gynWFh_eu9y0",
        "outputId": "fc323f90-af17-42ff-f36f-fbbac67103a1"
      },
      "execution_count": 15,
      "outputs": [
        {
          "output_type": "stream",
          "name": "stdout",
          "text": [
            "nova lista de aprovados: ['ALINE BONI', 'AMANDA LARA BRESSANELLI', 'BIANCA FASOLO FRANCESCHETTO', 'CAROLINA FERREIRA GOMES', 'CAROLINA SERPA BRASIL', 'CHRISTOFER DA SILVA', 'OSVALDO CRUZ', 'GABRIELA GARCIA SILVANO', 'GIOVANI NOLL', 'GUILHERME GERALDO LOVATO SORIO', 'GUILHERME LEMOS EDER', 'STEPHANIE PILOTTI', 'VINICIUS OLIVEIRA ROCHA RODRIGUES', 'VIVIANA REGINA KONZEN\\n', 'SAMUEL ROSA']\n"
          ]
        }
      ]
    }
  ]
}